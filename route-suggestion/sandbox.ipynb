{
 "cells": [
  {
   "cell_type": "code",
   "execution_count": 1,
   "metadata": {},
   "outputs": [],
   "source": [
    "import os\n",
    "from dotenv import load_dotenv\n",
    "\n",
    "load_dotenv(\".env\")\n",
    "\n",
    "BING_MAPS_API_KEY = os.environ[\"BING_MAPS_API_KEY\"]"
   ]
  },
  {
   "cell_type": "code",
   "execution_count": 2,
   "metadata": {},
   "outputs": [],
   "source": [
    "# Local Search: https://learn.microsoft.com/en-us/bingmaps/rest-services/locations/local-search\n",
    "import requests\n",
    "\n",
    "query_params = {\n",
    "    \"q\": \"restaurant\",  # search query\n",
    "    \"type\": \"EatDrink\",\n",
    "    \"userLocation\": \"47.6062,-122.3321\",  # ユーザーの位置 (例: シアトル)\n",
    "    \"key\": BING_MAPS_API_KEY,\n",
    "}\n",
    "\n",
    "URL = \"https://dev.virtualearth.net/REST/v1/LocalSearch/\"\n",
    "\n",
    "res = requests.get(url=URL, params=query_params)"
   ]
  },
  {
   "cell_type": "code",
   "execution_count": 13,
   "metadata": {},
   "outputs": [],
   "source": [
    "resource_sets = res.json()[\"resourceSets\"]\n",
    "resource = resource_sets[0][\"resources\"][0]"
   ]
  },
  {
   "cell_type": "code",
   "execution_count": null,
   "metadata": {},
   "outputs": [],
   "source": [
    "resource"
   ]
  },
  {
   "cell_type": "code",
   "execution_count": 39,
   "metadata": {},
   "outputs": [],
   "source": [
    "# route api\n",
    "query_params = {\n",
    "    \"waypoint.0\": \"35.6787843,139.7617759\",\n",
    "    \"waypoint.1\": \"35.6645201,139.6470065\",\n",
    "    \"travelMode\": \"Transit\",\n",
    "    \"key\": BING_MAPS_API_KEY,\n",
    "}\n",
    "\n",
    "URL = \"http://dev.virtualearth.net/REST/v1/Routes\"\n",
    "\n",
    "res = requests.get(url=URL, params=query_params)"
   ]
  },
  {
   "cell_type": "code",
   "execution_count": 42,
   "metadata": {},
   "outputs": [],
   "source": [
    "resource_sets = res.json()[\"resourceSets\"]\n",
    "resource = resource_sets[0][\"resources\"][0]"
   ]
  },
  {
   "cell_type": "code",
   "execution_count": null,
   "metadata": {},
   "outputs": [],
   "source": [
    "resource[\"travelDuration\"]"
   ]
  },
  {
   "cell_type": "code",
   "execution_count": null,
   "metadata": {},
   "outputs": [],
   "source": [
    "resource[\"durationUnit\"]"
   ]
  },
  {
   "cell_type": "code",
   "execution_count": 50,
   "metadata": {},
   "outputs": [],
   "source": [
    "route_leg = resource[\"routeLegs\"]"
   ]
  },
  {
   "cell_type": "code",
   "execution_count": null,
   "metadata": {},
   "outputs": [],
   "source": [
    "route_leg"
   ]
  },
  {
   "cell_type": "code",
   "execution_count": 21,
   "metadata": {},
   "outputs": [],
   "source": [
    "# pydantic to define function calling\n",
    "\n",
    "from langchain.agents import create_openapi_agent\n",
    "from langchain_openai import ChatOpenAI\n",
    "from langchain.tools import tool\n",
    "from pydantic import Field\n",
    "\n",
    "OPENAI_API_KEY = os.environ[\"OPENAI_API_KEY\"]\n",
    "\n",
    "# llm\n",
    "llm = ChatOpenAI(model=\"gpt-3.5-turbo-1106\", temperature=0.1, api_key=OPENAI_API_KEY)\n",
    "\n",
    "# tools\n",
    "@tool\n",
    "def crawl_url(url: str) -> str:\n",
    "    \"\"\"useful when crawling a given URL\"\"\"\n",
    "    import requests\n",
    "    return requests.get(url).json()\n",
    "\n",
    "# agent\n",
    "agent = create_openapi_agent(llm=llm, toolkit=)"
   ]
  },
  {
   "cell_type": "code",
   "execution_count": null,
   "metadata": {},
   "outputs": [],
   "source": [
    "crawl_url.description"
   ]
  },
  {
   "cell_type": "code",
   "execution_count": null,
   "metadata": {},
   "outputs": [],
   "source": []
  }
 ],
 "metadata": {
  "kernelspec": {
   "display_name": ".venv",
   "language": "python",
   "name": "python3"
  },
  "language_info": {
   "codemirror_mode": {
    "name": "ipython",
    "version": 3
   },
   "file_extension": ".py",
   "mimetype": "text/x-python",
   "name": "python",
   "nbconvert_exporter": "python",
   "pygments_lexer": "ipython3",
   "version": "3.12.4"
  }
 },
 "nbformat": 4,
 "nbformat_minor": 2
}
