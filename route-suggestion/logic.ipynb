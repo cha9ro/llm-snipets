{
 "cells": [
  {
   "cell_type": "code",
   "execution_count": 2,
   "metadata": {},
   "outputs": [],
   "source": [
    "import os\n",
    "from dotenv import load_dotenv\n",
    "\n",
    "load_dotenv(\".env\")\n",
    "\n",
    "BING_MAPS_API_KEY = os.environ[\"BING_MAPS_API_KEY\"]"
   ]
  },
  {
   "cell_type": "markdown",
   "metadata": {},
   "source": [
    "## Bing maps tools"
   ]
  },
  {
   "cell_type": "code",
   "execution_count": 3,
   "metadata": {},
   "outputs": [],
   "source": [
    "from pydantic import BaseModel, Field\n",
    "import requests\n",
    "\n",
    "\n",
    "class LocalSearch(BaseModel):\n",
    "    \"\"\" local search\n",
    "\n",
    "    Returns a list of business entities centered around a location or a geographic region.\n",
    "    For more information: https://learn.microsoft.com/en-us/bingmaps/rest-services/locations/local-search\n",
    "    \"\"\"\n",
    "    user_location: str = Field(title=\"user location\", description=\"Coordinates for the user's location on Earth.\")\n",
    "    query: str = Field(default=\"restaurant\", title=\"search query\", description=\"The query used to search for local entities.\")\n",
    "    type: str = Field(default=\"EatDrink\", description=\"The specified types used to filter the local entities\")\n",
    "\n",
    "    def exec(self):\n",
    "        query_params = {\n",
    "            \"q\": self.query,\n",
    "            \"type\": self.type,\n",
    "            \"userLocation\": self.user_location,\n",
    "            \"key\": BING_MAPS_API_KEY\n",
    "        }\n",
    "\n",
    "        URL = \"https://dev.virtualearth.net/REST/v1/LocalSearch/\"\n",
    "        response = requests.get(url=URL, params=query_params)\n",
    "        return response.json()[\"resourceSets\"][0][\"resources\"][0]\n",
    "    \n",
    "\n",
    "class RouteSearch(BaseModel):\n",
    "    \"\"\" route search\n",
    "    \n",
    "    Returned by Routes URL contains a Route resource.\n",
    "    The information provided in the Route resource includes the route distance, the travel time, and the itinerary details for each route leg.\n",
    "    For more information: https://learn.microsoft.com/en-us/bingmaps/rest-services/routes/calculate-a-route\n",
    "    \"\"\"\n",
    "\n",
    "    waypoints: list[str] = Field(description=\"Specifies two or more locations that define the route and that are in sequential order.\")\n",
    "    travel_mode: str = Field(default=\"Transit\")\n",
    "\n",
    "    def exec(self):\n",
    "        waypoints = {\n",
    "            f\"waypoint.{i}\": v for i, v in enumerate(self.waypoints)\n",
    "        }\n",
    "        query_params = {\n",
    "            **waypoints,\n",
    "            \"travelMode\": self.travel_mode,\n",
    "            \"key\": BING_MAPS_API_KEY\n",
    "        }\n",
    "        URL = \"http://dev.virtualearth.net/REST/v1/Routes\"\n",
    "        response = requests.get(url=URL, params=query_params)\n",
    "        return response.json()[\"resourceSets\"][0][\"resources\"][0]"
   ]
  },
  {
   "cell_type": "code",
   "execution_count": 4,
   "metadata": {},
   "outputs": [
    {
     "data": {
      "text/plain": [
       "{'description': 'local search\\n\\nReturns a list of business entities centered around a location or a geographic region.\\nFor more information: https://learn.microsoft.com/en-us/bingmaps/rest-services/locations/local-search',\n",
       " 'properties': {'user_location': {'description': \"Coordinates for the user's location on Earth.\",\n",
       "   'title': 'user location',\n",
       "   'type': 'string'},\n",
       "  'query': {'default': 'restaurant',\n",
       "   'description': 'The query used to search for local entities.',\n",
       "   'title': 'search query',\n",
       "   'type': 'string'},\n",
       "  'type': {'default': 'EatDrink',\n",
       "   'description': 'The specified types used to filter the local entities',\n",
       "   'title': 'Type',\n",
       "   'type': 'string'}},\n",
       " 'required': ['user_location'],\n",
       " 'title': 'LocalSearch',\n",
       " 'type': 'object'}"
      ]
     },
     "execution_count": 4,
     "metadata": {},
     "output_type": "execute_result"
    }
   ],
   "source": [
    "LocalSearch.model_json_schema()"
   ]
  },
  {
   "cell_type": "code",
   "execution_count": 5,
   "metadata": {},
   "outputs": [
    {
     "data": {
      "text/plain": [
       "{'description': 'route search\\n\\nReturned by Routes URL contains a Route resource.\\nThe information provided in the Route resource includes the route distance, the travel time, and the itinerary details for each route leg.\\nFor more information: https://learn.microsoft.com/en-us/bingmaps/rest-services/routes/calculate-a-route',\n",
       " 'properties': {'waypoints': {'description': 'Specifies two or more locations that define the route and that are in sequential order.',\n",
       "   'items': {'type': 'string'},\n",
       "   'title': 'Waypoints',\n",
       "   'type': 'array'},\n",
       "  'travel_mode': {'default': 'Transit',\n",
       "   'title': 'Travel Mode',\n",
       "   'type': 'string'}},\n",
       " 'required': ['waypoints'],\n",
       " 'title': 'RouteSearch',\n",
       " 'type': 'object'}"
      ]
     },
     "execution_count": 5,
     "metadata": {},
     "output_type": "execute_result"
    }
   ],
   "source": [
    "RouteSearch.model_json_schema()"
   ]
  },
  {
   "cell_type": "markdown",
   "metadata": {},
   "source": [
    "## Function callings"
   ]
  },
  {
   "cell_type": "code",
   "execution_count": 18,
   "metadata": {},
   "outputs": [
    {
     "ename": "AttributeError",
     "evalue": "'list' object has no attribute 'format'",
     "output_type": "error",
     "traceback": [
      "\u001b[0;31m---------------------------------------------------------------------------\u001b[0m",
      "\u001b[0;31mAttributeError\u001b[0m                            Traceback (most recent call last)",
      "Cell \u001b[0;32mIn[18], line 10\u001b[0m\n\u001b[1;32m      3\u001b[0m \u001b[38;5;28;01mfrom\u001b[39;00m \u001b[38;5;21;01mlangchain_core\u001b[39;00m\u001b[38;5;21;01m.\u001b[39;00m\u001b[38;5;21;01moutput_parsers\u001b[39;00m \u001b[38;5;28;01mimport\u001b[39;00m PydanticToolsParser\n\u001b[1;32m      5\u001b[0m user_prompt \u001b[38;5;241m=\u001b[39m \u001b[38;5;124m\"\"\"\u001b[39m\u001b[38;5;130;01m\\\u001b[39;00m\n\u001b[1;32m      6\u001b[0m \u001b[38;5;124m- 35.6645201,139.6470065\u001b[39m\n\u001b[1;32m      7\u001b[0m \u001b[38;5;124m- 35.6835407,139.5386682\u001b[39m\n\u001b[1;32m      8\u001b[0m \u001b[38;5;124m\"\"\"\u001b[39m\n\u001b[0;32m---> 10\u001b[0m messages\u001b[38;5;241m=\u001b[39m\u001b[43mChatMessagePromptTemplate\u001b[49m\u001b[38;5;241;43m.\u001b[39;49m\u001b[43mformat_messages\u001b[49m\u001b[43m(\u001b[49m\u001b[43m[\u001b[49m\n\u001b[1;32m     11\u001b[0m \u001b[43m    \u001b[49m\u001b[43m(\u001b[49m\u001b[38;5;124;43m\"\u001b[39;49m\u001b[38;5;124;43msystem\u001b[39;49m\u001b[38;5;124;43m\"\u001b[39;49m\u001b[43m,\u001b[49m\u001b[43m \u001b[49m\u001b[38;5;124;43m\"\u001b[39;49m\u001b[38;5;124;43mYou are a genius assistant. Give me the best route to visit the following places considering its opening hour.\u001b[39;49m\u001b[38;5;124;43m\"\u001b[39;49m\u001b[43m)\u001b[49m\u001b[43m,\u001b[49m\n\u001b[1;32m     12\u001b[0m \u001b[43m    \u001b[49m\u001b[43m(\u001b[49m\u001b[38;5;124;43m\"\u001b[39;49m\u001b[38;5;124;43mhuman\u001b[39;49m\u001b[38;5;124;43m\"\u001b[39;49m\u001b[43m,\u001b[49m\u001b[43m \u001b[49m\u001b[38;5;124;43m\"\u001b[39;49m\u001b[38;5;132;43;01m{a}\u001b[39;49;00m\u001b[38;5;124;43m\"\u001b[39;49m\u001b[43m)\u001b[49m\n\u001b[1;32m     13\u001b[0m \u001b[43m]\u001b[49m\u001b[43m)\u001b[49m\n\u001b[1;32m     15\u001b[0m tools \u001b[38;5;241m=\u001b[39m [LocalSearch, RouteSearch]\n\u001b[1;32m     17\u001b[0m llm \u001b[38;5;241m=\u001b[39m ChatOpenAI(model\u001b[38;5;241m=\u001b[39m\u001b[38;5;124m\"\u001b[39m\u001b[38;5;124mgpt-3.5-turbo\u001b[39m\u001b[38;5;124m\"\u001b[39m)\n",
      "File \u001b[0;32m~/Developer/cha9ro/llm-snipets/.venv/lib/python3.12/site-packages/langchain_core/prompts/chat.py:368\u001b[0m, in \u001b[0;36mBaseStringMessagePromptTemplate.format_messages\u001b[0;34m(self, **kwargs)\u001b[0m\n\u001b[1;32m    359\u001b[0m \u001b[38;5;28;01mdef\u001b[39;00m \u001b[38;5;21mformat_messages\u001b[39m(\u001b[38;5;28mself\u001b[39m, \u001b[38;5;241m*\u001b[39m\u001b[38;5;241m*\u001b[39mkwargs: Any) \u001b[38;5;241m-\u001b[39m\u001b[38;5;241m>\u001b[39m List[BaseMessage]:\n\u001b[1;32m    360\u001b[0m \u001b[38;5;250m    \u001b[39m\u001b[38;5;124;03m\"\"\"Format messages from kwargs.\u001b[39;00m\n\u001b[1;32m    361\u001b[0m \n\u001b[1;32m    362\u001b[0m \u001b[38;5;124;03m    Args:\u001b[39;00m\n\u001b[0;32m   (...)\u001b[0m\n\u001b[1;32m    366\u001b[0m \u001b[38;5;124;03m        List of BaseMessages.\u001b[39;00m\n\u001b[1;32m    367\u001b[0m \u001b[38;5;124;03m    \"\"\"\u001b[39;00m\n\u001b[0;32m--> 368\u001b[0m     \u001b[38;5;28;01mreturn\u001b[39;00m [\u001b[38;5;28;43mself\u001b[39;49m\u001b[38;5;241;43m.\u001b[39;49m\u001b[43mformat\u001b[49m(\u001b[38;5;241m*\u001b[39m\u001b[38;5;241m*\u001b[39mkwargs)]\n",
      "\u001b[0;31mAttributeError\u001b[0m: 'list' object has no attribute 'format'"
     ]
    }
   ],
   "source": [
    "from langchain_openai import ChatOpenAI\n",
    "from langchain_core.prompts import ChatMessagePromptTemplate\n",
    "from langchain_core.output_parsers import PydanticToolsParser\n",
    "\n",
    "user_prompt = \"\"\"\\\n",
    "- 35.6645201,139.6470065\n",
    "- 35.6835407,139.5386682\n",
    "\"\"\"\n",
    "\n",
    "messages = ChatMessagePromptTemplate.format_messages([\n",
    "    (\"system\", \"You are a genius assistant. Give me the best route to visit the following places considering its opening hour.\"),\n",
    "    (\"human\", \"{input}\")\n",
    "])\n",
    "\n",
    "tools = [LocalSearch, RouteSearch]\n",
    "\n",
    "llm = ChatOpenAI(model=\"gpt-3.5-turbo\")\n",
    "llm_with_tools = llm.bind_tools(tools)\n",
    "\n",
    "output_parser = PydanticToolsParser(tools=tools)\n",
    "\n",
    "chain = messages | llm_with_tools | output_parser"
   ]
  },
  {
   "cell_type": "code",
   "execution_count": 11,
   "metadata": {},
   "outputs": [],
   "source": [
    "result = llm_with_tools.invoke(messages)"
   ]
  },
  {
   "cell_type": "code",
   "execution_count": 15,
   "metadata": {},
   "outputs": [
    {
     "data": {
      "text/plain": [
       "[{'id': 'call_E9IpEZDl5PTk7Kw6g93g6yWZ',\n",
       "  'function': {'arguments': '{\"user_location\": \"35.6645201,139.6470065\"}',\n",
       "   'name': 'LocalSearch'},\n",
       "  'type': 'function'},\n",
       " {'id': 'call_Me3YeIU1EiJA6YXKdlfrxLsu',\n",
       "  'function': {'arguments': '{\"user_location\": \"35.6835407,139.5386682\"}',\n",
       "   'name': 'LocalSearch'},\n",
       "  'type': 'function'}]"
      ]
     },
     "execution_count": 15,
     "metadata": {},
     "output_type": "execute_result"
    }
   ],
   "source": [
    "result.additional_kwargs[\"tool_calls\"]"
   ]
  },
  {
   "cell_type": "code",
   "execution_count": null,
   "metadata": {},
   "outputs": [],
   "source": []
  }
 ],
 "metadata": {
  "kernelspec": {
   "display_name": ".venv",
   "language": "python",
   "name": "python3"
  },
  "language_info": {
   "codemirror_mode": {
    "name": "ipython",
    "version": 3
   },
   "file_extension": ".py",
   "mimetype": "text/x-python",
   "name": "python",
   "nbconvert_exporter": "python",
   "pygments_lexer": "ipython3",
   "version": "3.12.4"
  }
 },
 "nbformat": 4,
 "nbformat_minor": 2
}
