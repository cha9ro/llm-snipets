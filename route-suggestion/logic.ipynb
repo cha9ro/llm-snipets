{
 "cells": [
  {
   "cell_type": "code",
   "execution_count": 2,
   "metadata": {},
   "outputs": [],
   "source": [
    "import os\n",
    "from dotenv import load_dotenv\n",
    "\n",
    "load_dotenv(\".env\")\n",
    "\n",
    "BING_MAPS_API_KEY = os.environ[\"BING_MAPS_API_KEY\"]"
   ]
  },
  {
   "cell_type": "markdown",
   "metadata": {},
   "source": [
    "## Bing maps tools\n"
   ]
  },
  {
   "cell_type": "code",
   "execution_count": 3,
   "metadata": {},
   "outputs": [],
   "source": [
    "from pydantic import BaseModel, Field\n",
    "import requests\n",
    "\n",
    "\n",
    "class LocalSearch(BaseModel):\n",
    "    \"\"\"local search\n",
    "\n",
    "    Returns a list of business entities centered around a location or a geographic region.\n",
    "    For more information: https://learn.microsoft.com/en-us/bingmaps/rest-services/locations/local-search\n",
    "    \"\"\"\n",
    "\n",
    "    user_location: str = Field(title=\"user location\", description=\"Coordinates for the user's location on Earth.\")\n",
    "    query: str = Field(\n",
    "        default=\"restaurant\", title=\"search query\", description=\"The query used to search for local entities.\"\n",
    "    )\n",
    "    type: str = Field(default=\"EatDrink\", description=\"The specified types used to filter the local entities\")\n",
    "\n",
    "    def exec(self):\n",
    "        query_params = {\n",
    "            \"q\": self.query,\n",
    "            \"type\": self.type,\n",
    "            \"userLocation\": self.user_location,\n",
    "            \"key\": BING_MAPS_API_KEY,\n",
    "        }\n",
    "\n",
    "        URL = \"https://dev.virtualearth.net/REST/v1/LocalSearch/\"\n",
    "        response = requests.get(url=URL, params=query_params)\n",
    "        return response.json()[\"resourceSets\"][0][\"resources\"][0]\n",
    "\n",
    "\n",
    "class RouteSearch(BaseModel):\n",
    "    \"\"\"route search\n",
    "\n",
    "    Returned by Routes URL contains a Route resource.\n",
    "    The information provided in the Route resource includes the route distance, the travel time, and the itinerary details for each route leg.\n",
    "    For more information: https://learn.microsoft.com/en-us/bingmaps/rest-services/routes/calculate-a-route\n",
    "    \"\"\"\n",
    "\n",
    "    waypoints: list[str] = Field(\n",
    "        description=\"Specifies two or more locations that define the route and that are in sequential order.\"\n",
    "    )\n",
    "    travel_mode: str = Field(default=\"Transit\")\n",
    "\n",
    "    def exec(self):\n",
    "        waypoints = {f\"waypoint.{i}\": v for i, v in enumerate(self.waypoints)}\n",
    "        query_params = {**waypoints, \"travelMode\": self.travel_mode, \"key\": BING_MAPS_API_KEY}\n",
    "        URL = \"http://dev.virtualearth.net/REST/v1/Routes\"\n",
    "        response = requests.get(url=URL, params=query_params)\n",
    "        return response.json()[\"resourceSets\"][0][\"resources\"][0]"
   ]
  },
  {
   "cell_type": "code",
   "execution_count": null,
   "metadata": {},
   "outputs": [],
   "source": [
    "LocalSearch.model_json_schema()"
   ]
  },
  {
   "cell_type": "code",
   "execution_count": null,
   "metadata": {},
   "outputs": [],
   "source": [
    "RouteSearch.model_json_schema()"
   ]
  },
  {
   "cell_type": "markdown",
   "metadata": {},
   "source": [
    "## Function callings\n"
   ]
  },
  {
   "cell_type": "code",
   "execution_count": null,
   "metadata": {},
   "outputs": [],
   "source": [
    "from langchain_openai import ChatOpenAI\n",
    "from langchain_core.prompts import ChatMessagePromptTemplate\n",
    "from langchain_core.output_parsers import PydanticToolsParser\n",
    "\n",
    "user_prompt = \"\"\"\\\n",
    "- 35.6645201,139.6470065\n",
    "- 35.6835407,139.5386682\n",
    "\"\"\"\n",
    "\n",
    "messages = ChatMessagePromptTemplate.format_messages(\n",
    "    [\n",
    "        (\n",
    "            \"system\",\n",
    "            \"You are a genius assistant. Give me the best route to visit the following places considering its opening hour.\",\n",
    "        ),\n",
    "        (\"human\", \"{input}\"),\n",
    "    ]\n",
    ")\n",
    "\n",
    "tools = [LocalSearch, RouteSearch]\n",
    "\n",
    "llm = ChatOpenAI(model=\"gpt-3.5-turbo\")\n",
    "llm_with_tools = llm.bind_tools(tools)\n",
    "\n",
    "output_parser = PydanticToolsParser(tools=tools)\n",
    "\n",
    "chain = messages | llm_with_tools | output_parser"
   ]
  },
  {
   "cell_type": "code",
   "execution_count": 11,
   "metadata": {},
   "outputs": [],
   "source": [
    "result = llm_with_tools.invoke(messages)"
   ]
  },
  {
   "cell_type": "code",
   "execution_count": null,
   "metadata": {},
   "outputs": [],
   "source": [
    "result.additional_kwargs[\"tool_calls\"]"
   ]
  },
  {
   "cell_type": "code",
   "execution_count": null,
   "metadata": {},
   "outputs": [],
   "source": []
  }
 ],
 "metadata": {
  "kernelspec": {
   "display_name": ".venv",
   "language": "python",
   "name": "python3"
  },
  "language_info": {
   "codemirror_mode": {
    "name": "ipython",
    "version": 3
   },
   "file_extension": ".py",
   "mimetype": "text/x-python",
   "name": "python",
   "nbconvert_exporter": "python",
   "pygments_lexer": "ipython3",
   "version": "3.12.4"
  }
 },
 "nbformat": 4,
 "nbformat_minor": 2
}
