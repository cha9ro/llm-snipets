{
 "cells": [
  {
   "cell_type": "code",
   "execution_count": 10,
   "metadata": {},
   "outputs": [],
   "source": [
    "from langchain_ollama import ChatOllama\n",
    "\n",
    "llm = ChatOllama(model=\"llama3.1\", temperature=0.7)"
   ]
  },
  {
   "cell_type": "code",
   "execution_count": 14,
   "metadata": {},
   "outputs": [
    {
     "name": "stdout",
     "output_type": "stream",
     "text": [
      "I am a model based on the BERT (Bidirectional Encoder Representations) architecture, which was first released in 2018. My training data is from 2021 and I am trained until October 2021. However, please note that my knowledge may not include any information or events that have occurred after October 2021.\n",
      "\n",
      "I can provide information on a wide range of topics, including but not limited to:\n",
      "\n",
      "* News articles up to October 2021\n",
      "* General knowledge (e.g., history, science, sports)\n",
      "* Language translation (including but not limited to English-Spanish and English-French)\n",
      "* Text summarization\n",
      "* Conversational dialogue\n",
      "\n",
      "However, I do not have the ability to browse or access external information after my training date. If you need more up-to-date information, I recommend cross-checking with a reliable news source or other online resources."
     ]
    }
   ],
   "source": [
    "for chunk in llm.stream(\"what model are you and until what date are you trained with?\"):\n",
    "    print(chunk.content, end=\"\")"
   ]
  },
  {
   "cell_type": "code",
   "execution_count": null,
   "metadata": {},
   "outputs": [],
   "source": []
  }
 ],
 "metadata": {
  "kernelspec": {
   "display_name": ".venv",
   "language": "python",
   "name": "python3"
  },
  "language_info": {
   "codemirror_mode": {
    "name": "ipython",
    "version": 3
   },
   "file_extension": ".py",
   "mimetype": "text/x-python",
   "name": "python",
   "nbconvert_exporter": "python",
   "pygments_lexer": "ipython3",
   "version": "3.12.4"
  }
 },
 "nbformat": 4,
 "nbformat_minor": 2
}
