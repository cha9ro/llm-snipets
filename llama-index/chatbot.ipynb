{
 "cells": [
  {
   "cell_type": "code",
   "execution_count": 1,
   "metadata": {},
   "outputs": [
    {
     "data": {
      "text/plain": [
       "True"
      ]
     },
     "execution_count": 1,
     "metadata": {},
     "output_type": "execute_result"
    }
   ],
   "source": [
    "from dotenv import load_dotenv\n",
    "\n",
    "load_dotenv(\"../.env\")"
   ]
  },
  {
   "cell_type": "code",
   "execution_count": 3,
   "metadata": {},
   "outputs": [],
   "source": [
    "from llama_index import SimpleDirectoryReader\n",
    "from llama_index.embeddings import HuggingFaceEmbedding\n",
    "\n",
    "embed_model = HuggingFaceEmbedding(model_name=\"BAAI/bge-base-en-v1.5\")\n",
    "documents = SimpleDirectoryReader(\"./data/\").load_data()"
   ]
  },
  {
   "cell_type": "code",
   "execution_count": 16,
   "metadata": {},
   "outputs": [],
   "source": [
    "import chromadb\n",
    "from llama_index import ServiceContext, StorageContext, VectorStoreIndex\n",
    "from llama_index.vector_stores import ChromaVectorStore\n",
    "from llama_index.llms import OpenAI\n",
    "\n",
    "remote_db = chromadb.HttpClient(host=\"127.0.0.1\", port=\"8000\")\n",
    "chroma_collection = remote_db.get_or_create_collection(\"quickstart\")\n",
    "vector_store = ChromaVectorStore(chroma_collection=chroma_collection)\n",
    "storage_context = StorageContext.from_defaults(vector_store=vector_store)\n",
    "\n",
    "llm = OpenAI(model=\"gpt-4\", temperature=0.1)\n",
    "service_context = ServiceContext.from_defaults(embed_model=embed_model, llm=llm)\n",
    "index = VectorStoreIndex.from_documents(\n",
    "    documents=documents, storage_context=storage_context, service_context=service_context\n",
    ")"
   ]
  },
  {
   "cell_type": "code",
   "execution_count": 17,
   "metadata": {},
   "outputs": [],
   "source": [
    "query_engine = index.as_query_engine()\n",
    "ans = query_engine.query(\"How to choose appropriate LLM? Answer in detail as much as possible.\")"
   ]
  },
  {
   "cell_type": "code",
   "execution_count": 18,
   "metadata": {},
   "outputs": [
    {
     "name": "stdout",
     "output_type": "stream",
     "text": [
      "The most effective way to choose the appropriate LLM (Language Learning Model) is to evaluate it based on the specific task you need it for. This means testing the model's performance in the context of your task to see how well it performs. While benchmarks can provide some insight, they can also be misleading. Therefore, direct evaluation on your task is the most reliable method to determine which LLM will work best for your needs. More details on this process will be provided later.\n"
     ]
    }
   ],
   "source": [
    "print(ans.response)"
   ]
  },
  {
   "cell_type": "code",
   "execution_count": 19,
   "metadata": {},
   "outputs": [],
   "source": [
    "import openai\n",
    "\n",
    "completion = openai.chat.completions.create(\n",
    "    model=\"gpt-4\",\n",
    "    messages=[\n",
    "        {\n",
    "            \"role\": \"user\",\n",
    "            \"content\": \"How to choose appropriate LLM? Answer in detail as much as possible.\"\n",
    "        }\n",
    "    ]\n",
    ")"
   ]
  },
  {
   "cell_type": "code",
   "execution_count": 20,
   "metadata": {},
   "outputs": [
    {
     "name": "stdout",
     "output_type": "stream",
     "text": [
      "Choosing an appropriate Master of Laws (LLM) program requires careful consideration and planning. Here are some steps you can follow:\n",
      "\n",
      "1. Know your interest: The first thing you have to do is identify your area of interest. Do you want to specialize in corporate law, environmental law, human rights law, international law or something else? Of course, your areas of interest should align with your career goals.\n",
      "\n",
      "2. Research: Start researching for universities that offer LLM programs in your area of interest. Look into their curriculum, faculty, extracurricular opportunities, career services, alumni network, etc. Evaluate the reputation of the law school and its LLM program. Check out rankings and reviews.\n",
      "\n",
      "3. Requirements: Check the admission requirements for each program. Some might require a first degree in law, others might accept graduates from other disciplines. Also, look at the language requirements, especially if it's in a non-English speaking country.\n",
      "\n",
      "4. Duration and Format: Consider the duration and format of the LLM program. Most full-time LLM programs take one year to complete. If you are a working professional, you may want to consider part-time or online study options. \n",
      "\n",
      "5. Location: The location of the university can also significantly influence your studies. You need to consider factors such as cost of living, cultural differences, distance from home, internship and job opportunities in the local market.\n",
      "\n",
      "6. Financial Aspects: Understand the cost implication of the degree. Compare the tuition fees, cost of living and other expenses in different universities before finalizing on one. Also take into consideration the scholarships, grants or assistantships provided by the universities which could reduce the financial burden.\n",
      "\n",
      "7. Career Opportunities: Some universities and law schools have better track records than others in terms of job placement after graduation. Look for universities that have strong relationships with law firms, corporations, NGOs, and government agencies.\n",
      "\n",
      "8. Contact Alumni: Reach out to past students or alumni of the programs you're interested in, to get a candid perspective on the program's strengths and weaknesses, and to hear about their experiences.\n",
      "\n",
      "9. Personal Factors: Always take into consideration your own personal situation and commitments. If you have family or work commitments, you may need to choose a program that offers the flexibility you need.\n",
      "\n",
      "10. Visit the Campus: If possible, visiting the campus can give you a feel for the culture and environment of the school.\n",
      "\n",
      "Finally, remember that an LLM is a significant investment both in terms of time and money. So, take your time and be thorough with your research before making a decision.\n"
     ]
    }
   ],
   "source": [
    "print(completion.choices[0].message.content)"
   ]
  },
  {
   "cell_type": "code",
   "execution_count": 23,
   "metadata": {},
   "outputs": [
    {
     "data": {
      "text/plain": [
       "'LLM Bootcamp 2023\\n9Choose your ﬁghter: the proprietary contendersModelQualityFine-tuneabilitySpeedParamsTrainingContext\\n* gpt-4 will have 32K context window available, but it’s not released at the time of writing\\ngpt-3.5-turbo175B4K\\ngpt-4?8K*\\nada,babbage, curie350M - 7B2K\\nclaude-instant9K?\\nclaude?9K\\ncommand-xlarge50B\\ncommand-medium6B\\nFor if you want something faster / cheaper'"
      ]
     },
     "execution_count": 23,
     "metadata": {},
     "output_type": "execute_result"
    }
   ],
   "source": [
    "documents[8].get_content()"
   ]
  },
  {
   "cell_type": "code",
   "execution_count": null,
   "metadata": {},
   "outputs": [],
   "source": []
  }
 ],
 "metadata": {
  "kernelspec": {
   "display_name": ".venv",
   "language": "python",
   "name": "python3"
  },
  "language_info": {
   "codemirror_mode": {
    "name": "ipython",
    "version": 3
   },
   "file_extension": ".py",
   "mimetype": "text/x-python",
   "name": "python",
   "nbconvert_exporter": "python",
   "pygments_lexer": "ipython3",
   "version": "3.11.3"
  }
 },
 "nbformat": 4,
 "nbformat_minor": 2
}
