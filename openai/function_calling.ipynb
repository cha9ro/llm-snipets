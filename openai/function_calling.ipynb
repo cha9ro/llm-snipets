{
 "cells": [
  {
   "cell_type": "code",
   "execution_count": 1,
   "metadata": {},
   "outputs": [],
   "source": [
    "# define tools\n",
    "\n",
    "import random\n",
    "\n",
    "\n",
    "def get_random_number_between(a: int, b: int) -> int:\n",
    "    \"\"\"get random integer between given two integers\n",
    "\n",
    "    Args:\n",
    "        a (int): random integer 1\n",
    "        b (int): random integer 2\n",
    "\n",
    "    Returns:\n",
    "        int: random integer between a and b\n",
    "    \"\"\"\n",
    "    return int(random.randrange(min(a, b), max(a, b)))"
   ]
  },
  {
   "cell_type": "code",
   "execution_count": 2,
   "metadata": {},
   "outputs": [],
   "source": [
    "# args\n",
    "messages = [\n",
    "    {\"role\": \"system\", \"content\": \"You're a genius assistant.\"},\n",
    "    {\"role\": \"user\", \"content\": \"Give me random number\"}\n",
    "]\n",
    "\n",
    "tools = [\n",
    "    {\n",
    "        \"type\": \"function\",\n",
    "        \"function\": {\n",
    "            \"name\": \"get_random_number_between\",\n",
    "            \"description\": \"useful when you need a random number\",\n",
    "            \"parameters\": {\n",
    "                \"type\": \"object\",\n",
    "                \"properties\": {\n",
    "                    \"a\": {\n",
    "                        \"type\": \"integer\",\n",
    "                        \"description\": \"an integer from/to which the random number is to be.\"\n",
    "                    },\n",
    "                    \"b\": {\n",
    "                        \"type\": \"integer\",\n",
    "                        \"description\": \"an integer from/to which the random number is to be.\"\n",
    "                    }\n",
    "                }\n",
    "                \n",
    "            },\n",
    "            \"required\": [\"a\", \"b\"]\n",
    "        }\n",
    "    },\n",
    "]"
   ]
  },
  {
   "cell_type": "code",
   "execution_count": 3,
   "metadata": {},
   "outputs": [],
   "source": [
    "# Ask LLM which tool to use and what are the args\n",
    "import dotenv\n",
    "from openai import OpenAI\n",
    "\n",
    "\n",
    "client = OpenAI()\n",
    "dotenv.load_dotenv(\"../.env\")\n",
    "\n",
    "response = client.chat.completions.create(\n",
    "    model=\"gpt-3.5-turbo-1106\",\n",
    "    messages=messages,\n",
    "    tools=tools,\n",
    "    tool_choice=\"auto\"\n",
    ")"
   ]
  },
  {
   "cell_type": "code",
   "execution_count": 4,
   "metadata": {},
   "outputs": [
    {
     "data": {
      "text/plain": [
       "[ChatCompletionMessageToolCall(id='call_nok2w15Vpcb4JCaZMqn1yLi1', function=Function(arguments='{\"a\":1,\"b\":100}', name='get_random_number_between'), type='function')]"
      ]
     },
     "execution_count": 4,
     "metadata": {},
     "output_type": "execute_result"
    }
   ],
   "source": [
    "response.choices[0].message.tool_calls"
   ]
  },
  {
   "cell_type": "code",
   "execution_count": 5,
   "metadata": {},
   "outputs": [],
   "source": [
    "# execute the function\n",
    "import json\n",
    "\n",
    "\n",
    "available_tools = {\n",
    "    \"get_random_number_between\": get_random_number_between\n",
    "}\n",
    "\n",
    "messages.append(response.choices[0].message)\n",
    "\n",
    "for tool in response.choices[0].message.tool_calls:\n",
    "    # execute function\n",
    "    function_name = tool.function.name\n",
    "    function_args = tool.function.arguments\n",
    "    function_args_json = json.loads(function_args)\n",
    "    function_response = available_tools[function_name](**function_args_json)\n",
    "\n",
    "    # add function response to messages\n",
    "    messages.append(\n",
    "        {\n",
    "            \"tool_call_id\": tool.id,\n",
    "            \"role\": \"tool\",\n",
    "            \"name\": function_name,\n",
    "            \"content\": str(function_response)\n",
    "        }\n",
    "    )\n"
   ]
  },
  {
   "cell_type": "code",
   "execution_count": 6,
   "metadata": {},
   "outputs": [],
   "source": [
    "# final answer\n",
    "second_response = client.chat.completions.create(\n",
    "    model=\"gpt-3.5-turbo-1106\",\n",
    "    messages=messages,\n",
    ")"
   ]
  },
  {
   "cell_type": "code",
   "execution_count": 7,
   "metadata": {},
   "outputs": [
    {
     "data": {
      "text/plain": [
       "ChatCompletion(id='chatcmpl-8jyt6LOPdWydaTE065zfNQJxt0S1r', choices=[Choice(finish_reason='stop', index=0, message=ChatCompletionMessage(content='Your random number is 92.', role='assistant', function_call=None, tool_calls=None), logprobs=None)], created=1705969504, model='gpt-3.5-turbo-1106', object='chat.completion', system_fingerprint='fp_aaa20cc2ba', usage=CompletionUsage(completion_tokens=7, prompt_tokens=52, total_tokens=59))"
      ]
     },
     "execution_count": 7,
     "metadata": {},
     "output_type": "execute_result"
    }
   ],
   "source": [
    "second_response"
   ]
  },
  {
   "cell_type": "code",
   "execution_count": 8,
   "metadata": {},
   "outputs": [
    {
     "data": {
      "text/plain": [
       "[{'role': 'system', 'content': \"You're a genius assistant.\"},\n",
       " {'role': 'user', 'content': 'Give me random number'},\n",
       " ChatCompletionMessage(content=None, role='assistant', function_call=None, tool_calls=[ChatCompletionMessageToolCall(id='call_nok2w15Vpcb4JCaZMqn1yLi1', function=Function(arguments='{\"a\":1,\"b\":100}', name='get_random_number_between'), type='function')]),\n",
       " {'tool_call_id': 'call_nok2w15Vpcb4JCaZMqn1yLi1',\n",
       "  'role': 'tool',\n",
       "  'name': 'get_random_number_between',\n",
       "  'content': '92'}]"
      ]
     },
     "execution_count": 8,
     "metadata": {},
     "output_type": "execute_result"
    }
   ],
   "source": [
    "messages"
   ]
  },
  {
   "cell_type": "code",
   "execution_count": null,
   "metadata": {},
   "outputs": [],
   "source": []
  }
 ],
 "metadata": {
  "kernelspec": {
   "display_name": ".venv",
   "language": "python",
   "name": "python3"
  },
  "language_info": {
   "codemirror_mode": {
    "name": "ipython",
    "version": 3
   },
   "file_extension": ".py",
   "mimetype": "text/x-python",
   "name": "python",
   "nbconvert_exporter": "python",
   "pygments_lexer": "ipython3",
   "version": "3.11.3"
  }
 },
 "nbformat": 4,
 "nbformat_minor": 2
}
