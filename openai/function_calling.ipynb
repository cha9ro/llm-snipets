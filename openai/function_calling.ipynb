{
 "cells": [
  {
   "cell_type": "code",
   "execution_count": 1,
   "metadata": {},
   "outputs": [],
   "source": [
    "# define tools\n",
    "\n",
    "import random\n",
    "\n",
    "\n",
    "def get_random_number_between(a: int, b: int) -> int:\n",
    "    \"\"\"get random integer between given two integers\n",
    "\n",
    "    Args:\n",
    "        a (int): random integer 1\n",
    "        b (int): random integer 2\n",
    "\n",
    "    Returns:\n",
    "        int: random integer between a and b\n",
    "    \"\"\"\n",
    "    return int(random.randrange(min(a, b), max(a, b)))"
   ]
  },
  {
   "cell_type": "code",
   "execution_count": 2,
   "metadata": {},
   "outputs": [],
   "source": [
    "# args\n",
    "messages = [\n",
    "    {\"role\": \"system\", \"content\": \"You're a genius assistant.\"},\n",
    "    {\"role\": \"user\", \"content\": \"Give me random number\"},\n",
    "]\n",
    "\n",
    "tools = [\n",
    "    {\n",
    "        \"type\": \"function\",\n",
    "        \"function\": {\n",
    "            \"name\": \"get_random_number_between\",\n",
    "            \"description\": \"useful when you need a random number\",\n",
    "            \"parameters\": {\n",
    "                \"type\": \"object\",\n",
    "                \"properties\": {\n",
    "                    \"a\": {\"type\": \"integer\", \"description\": \"an integer from/to which the random number is to be.\"},\n",
    "                    \"b\": {\"type\": \"integer\", \"description\": \"an integer from/to which the random number is to be.\"},\n",
    "                },\n",
    "            },\n",
    "            \"required\": [\"a\", \"b\"],\n",
    "        },\n",
    "    },\n",
    "]"
   ]
  },
  {
   "cell_type": "code",
   "execution_count": 3,
   "metadata": {},
   "outputs": [],
   "source": [
    "# Ask LLM which tool to use and what are the args\n",
    "import dotenv\n",
    "from openai import OpenAI\n",
    "\n",
    "\n",
    "client = OpenAI()\n",
    "dotenv.load_dotenv(\"../.env\")\n",
    "\n",
    "response = client.chat.completions.create(\n",
    "    model=\"gpt-3.5-turbo-1106\", messages=messages, tools=tools, tool_choice=\"auto\"\n",
    ")"
   ]
  },
  {
   "cell_type": "code",
   "execution_count": null,
   "metadata": {},
   "outputs": [],
   "source": [
    "response.choices[0].message.tool_calls"
   ]
  },
  {
   "cell_type": "code",
   "execution_count": 5,
   "metadata": {},
   "outputs": [],
   "source": [
    "# execute the function\n",
    "import json\n",
    "\n",
    "\n",
    "available_tools = {\"get_random_number_between\": get_random_number_between}\n",
    "\n",
    "messages.append(response.choices[0].message)\n",
    "\n",
    "for tool in response.choices[0].message.tool_calls:\n",
    "    # execute function\n",
    "    function_name = tool.function.name\n",
    "    function_args = tool.function.arguments\n",
    "    function_args_json = json.loads(function_args)\n",
    "    function_response = available_tools[function_name](**function_args_json)\n",
    "\n",
    "    # add function response to messages\n",
    "    messages.append({\"tool_call_id\": tool.id, \"role\": \"tool\", \"name\": function_name, \"content\": str(function_response)})"
   ]
  },
  {
   "cell_type": "code",
   "execution_count": 6,
   "metadata": {},
   "outputs": [],
   "source": [
    "# final answer\n",
    "second_response = client.chat.completions.create(\n",
    "    model=\"gpt-3.5-turbo-1106\",\n",
    "    messages=messages,\n",
    ")"
   ]
  },
  {
   "cell_type": "code",
   "execution_count": null,
   "metadata": {},
   "outputs": [],
   "source": [
    "second_response"
   ]
  },
  {
   "cell_type": "code",
   "execution_count": null,
   "metadata": {},
   "outputs": [],
   "source": [
    "messages"
   ]
  },
  {
   "cell_type": "code",
   "execution_count": null,
   "metadata": {},
   "outputs": [],
   "source": []
  }
 ],
 "metadata": {
  "kernelspec": {
   "display_name": ".venv",
   "language": "python",
   "name": "python3"
  },
  "language_info": {
   "codemirror_mode": {
    "name": "ipython",
    "version": 3
   },
   "file_extension": ".py",
   "mimetype": "text/x-python",
   "name": "python",
   "nbconvert_exporter": "python",
   "pygments_lexer": "ipython3",
   "version": "3.12.4"
  }
 },
 "nbformat": 4,
 "nbformat_minor": 2
}
