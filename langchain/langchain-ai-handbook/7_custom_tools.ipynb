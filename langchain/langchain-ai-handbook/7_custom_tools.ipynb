{
 "cells": [
  {
   "cell_type": "code",
   "execution_count": 37,
   "metadata": {},
   "outputs": [],
   "source": [
    "import os\n",
    "from dotenv import load_dotenv\n",
    "\n",
    "load_dotenv(\"../.env\")\n",
    "OPENAI_API_KEY = os.environ[\"OPENAI_API_KEY\"]"
   ]
  },
  {
   "cell_type": "code",
   "execution_count": 33,
   "metadata": {},
   "outputs": [],
   "source": [
    "import json\n",
    "from typing import List\n",
    "from uuid import UUID\n",
    "from langchain.tools import BaseTool\n",
    "from pydantic import BaseModel, TypeAdapter\n",
    "class CustomDataReferenceTool(BaseTool):\n",
    "\n",
    "    class Data(BaseModel):\n",
    "        id: str\n",
    "        name: str\n",
    "        age: int\n",
    "        favorites: List[str]\n",
    "\n",
    "    name = \"Custom DB reference\"\n",
    "    description = \"Useful when you need to get the data from custom database.\"\n",
    "    data_list: List[Data] = []\n",
    "\n",
    "    def __init__(self, **data):\n",
    "        if \"data_list\" not in data:\n",
    "            with open(\"./sample_db.json\", \"r\") as f:\n",
    "                json_string = json.loads(f.read())\n",
    "                data[\"data_list\"] = TypeAdapter(List[self.Data]).validate_python(json_string)\n",
    "        super(CustomDataReferenceTool, self).__init__(**data)\n",
    "\n",
    "\n",
    "    def _run(self, name: str) -> List[str]:\n",
    "        for data in self.data_list:\n",
    "            if name == data.name:\n",
    "                return data.favorites\n",
    "        raise ValueError(f\"No data with name={name} found.\")\n",
    "\n",
    "    def _arun(self, name: str) -> str:\n",
    "        raise NotImplementedError()"
   ]
  },
  {
   "cell_type": "code",
   "execution_count": 34,
   "metadata": {},
   "outputs": [],
   "source": []
  },
  {
   "cell_type": "code",
   "execution_count": 39,
   "metadata": {},
   "outputs": [],
   "source": [
    "from langchain.chat_models import ChatOpenAI\n",
    "from langchain.chains.conversation.memory import ConversationBufferWindowMemory\n",
    "\n",
    "llm = ChatOpenAI(\n",
    "    openai_api_key=OPENAI_API_KEY,\n",
    "    temperature=0,\n",
    "    model_name=\"gpt-3.5-turbo\"\n",
    ")\n",
    "\n",
    "conversational_memory = ConversationBufferWindowMemory(\n",
    "    memory_key=\"chat_history\",\n",
    "    k=5,\n",
    "    return_messages=True\n",
    ")\n",
    "\n",
    "tools = [CustomDataReferenceTool()]"
   ]
  },
  {
   "cell_type": "code",
   "execution_count": 40,
   "metadata": {},
   "outputs": [],
   "source": [
    "from tabnanny import verbose\n",
    "from langchain.agents import initialize_agent\n",
    "from langchain.agents import AgentType\n",
    "\n",
    "agent = initialize_agent(\n",
    "    agent=AgentType.CHAT_CONVERSATIONAL_REACT_DESCRIPTION,\n",
    "    tools=tools,\n",
    "    llm=llm,\n",
    "    verbose=True,\n",
    "    max_iterations=3,\n",
    "    memory=conversational_memory\n",
    ")"
   ]
  },
  {
   "cell_type": "code",
   "execution_count": 41,
   "metadata": {},
   "outputs": [
    {
     "name": "stdout",
     "output_type": "stream",
     "text": [
      "\n",
      "\n",
      "\u001b[1m> Entering new AgentExecutor chain...\u001b[0m\n",
      "\u001b[32;1m\u001b[1;3m{\n",
      "    \"action\": \"Custom DB reference\",\n",
      "    \"action_input\": \"Mio\"\n",
      "}\u001b[0m\n",
      "Observation: \u001b[36;1m\u001b[1;3m['Okonomiyaki']\u001b[0m\n",
      "Thought:\u001b[32;1m\u001b[1;3m{\n",
      "    \"action\": \"Final Answer\",\n",
      "    \"action_input\": \"Mio's favorite food is Okonomiyaki.\"\n",
      "}\u001b[0m\n",
      "\n",
      "\u001b[1m> Finished chain.\u001b[0m\n"
     ]
    },
    {
     "data": {
      "text/plain": [
       "{'input': \"What's Mio's favorite food?\",\n",
       " 'chat_history': [],\n",
       " 'output': \"Mio's favorite food is Okonomiyaki.\"}"
      ]
     },
     "execution_count": 41,
     "metadata": {},
     "output_type": "execute_result"
    }
   ],
   "source": [
    "agent(\"What's Mio's favorite food?\")"
   ]
  },
  {
   "cell_type": "code",
   "execution_count": 42,
   "metadata": {},
   "outputs": [
    {
     "name": "stdout",
     "output_type": "stream",
     "text": [
      "\n",
      "\n",
      "\u001b[1m> Entering new AgentExecutor chain...\u001b[0m\n",
      "\u001b[32;1m\u001b[1;3m{\n",
      "    \"action\": \"Custom DB reference\",\n",
      "    \"action_input\": \"Yui\"\n",
      "}\u001b[0m\n",
      "Observation: \u001b[36;1m\u001b[1;3m['Daifuku', 'Katsu', 'Sushi']\u001b[0m\n",
      "Thought:\u001b[32;1m\u001b[1;3m{\n",
      "    \"action\": \"Final Answer\",\n",
      "    \"action_input\": \"Yui's favorite food is Daifuku, Katsu, and Sushi.\"\n",
      "}\u001b[0m\n",
      "\n",
      "\u001b[1m> Finished chain.\u001b[0m\n"
     ]
    },
    {
     "data": {
      "text/plain": [
       "{'input': \"What Yui's favorite food?\",\n",
       " 'chat_history': [HumanMessage(content=\"What's Mio's favorite food?\"),\n",
       "  AIMessage(content=\"Mio's favorite food is Okonomiyaki.\")],\n",
       " 'output': \"Yui's favorite food is Daifuku, Katsu, and Sushi.\"}"
      ]
     },
     "execution_count": 42,
     "metadata": {},
     "output_type": "execute_result"
    }
   ],
   "source": [
    "agent(\"What Yui's favorite food?\")"
   ]
  },
  {
   "cell_type": "code",
   "execution_count": null,
   "metadata": {},
   "outputs": [],
   "source": []
  }
 ],
 "metadata": {
  "kernelspec": {
   "display_name": ".venv",
   "language": "python",
   "name": "python3"
  },
  "language_info": {
   "codemirror_mode": {
    "name": "ipython",
    "version": 3
   },
   "file_extension": ".py",
   "mimetype": "text/x-python",
   "name": "python",
   "nbconvert_exporter": "python",
   "pygments_lexer": "ipython3",
   "version": "3.11.3"
  }
 },
 "nbformat": 4,
 "nbformat_minor": 2
}
