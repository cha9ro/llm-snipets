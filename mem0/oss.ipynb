{
 "cells": [
  {
   "cell_type": "code",
   "execution_count": null,
   "id": "d6897b0f",
   "metadata": {},
   "outputs": [],
   "source": [
    "from dotenv import load_dotenv\n",
    "from mem0 import Memory\n",
    "\n",
    "load_dotenv()\n",
    "\n",
    "m = Memory.from_config(\n",
    "    config_dict={\n",
    "        \"graph_store\": {\n",
    "            \"provider\": \"neo4j\",\n",
    "            \"config\": {\n",
    "                \"url\": \"neo4j://localhost:7687\",\n",
    "                \"username\": \"neo4j\",\n",
    "                \"password\": \"password\",\n",
    "            },\n",
    "        },\n",
    "        \"vector_store\": {\n",
    "            \"provider\": \"qdrant\",\n",
    "            \"config\": {\n",
    "                \"url\": \"http://localhost:6333\",\n",
    "                \"api_key\": None,  # Optional, if Qdrant is secured\n",
    "                \"collection_name\": \"my_collection\",\n",
    "            },\n",
    "        },\n",
    "        # \"llm\": {\n",
    "        #     \"provider\": \"ollama\",\n",
    "        #     \"config\": {\n",
    "        #         \"model\": \"llama3.2\",\n",
    "        #     },\n",
    "        # },\n",
    "        # \"embedding_model\": {\n",
    "        #     \"provider\": \"ollama\",\n",
    "        #     \"config\": {\n",
    "        #         \"model\": \"nomic-embed-text\",\n",
    "        # },\n",
    "    }\n",
    ")\n"
   ]
  },
  {
   "cell_type": "code",
   "execution_count": 16,
   "id": "00baa867",
   "metadata": {},
   "outputs": [],
   "source": [
    "messages = [\n",
    "    {\"role\": \"user\", \"content\": \"I'm planning to watch a movie tonight. Any recommendations?\"},\n",
    "    {\"role\": \"assistant\", \"content\": \"How about a thriller movies? They can be quite engaging.\"},\n",
    "    {\"role\": \"user\", \"content\": \"I'm not a big fan of thriller movies but I love sci-fi movies.\"},\n",
    "    {\n",
    "        \"role\": \"assistant\",\n",
    "        \"content\": \"Got it! I'll avoid thriller recommendations and suggest sci-fi movies in the future.\",\n",
    "    },\n",
    "]\n",
    "\n",
    "# Store inferred memories (default behavior)\n",
    "result = m.add(messages, user_id=\"alice\", metadata={\"category\": \"movie_recommendations\"})\n",
    "\n",
    "# Store raw messages without inference\n",
    "# result = m.add(messages, user_id=\"alice\", metadata={\"category\": \"movie_recommendations\"}, infer=False)"
   ]
  },
  {
   "cell_type": "code",
   "execution_count": 19,
   "id": "cb1ce8df",
   "metadata": {},
   "outputs": [
    {
     "data": {
      "text/plain": [
       "{'results': [],\n",
       " 'relations': {'deleted_entities': [[], []],\n",
       "  'added_entities': [[{'source': 'alice',\n",
       "     'relationship': 'plans_to_watch',\n",
       "     'target': 'movie'}],\n",
       "   [{'source': 'movie', 'relationship': 'is_a', 'target': 'thriller'}],\n",
       "   [{'source': 'movie', 'relationship': 'is_a', 'target': 'sci-fi'}],\n",
       "   [{'source': 'alice',\n",
       "     'relationship': 'does_not_favor',\n",
       "     'target': 'thriller'}],\n",
       "   [{'source': 'alice', 'relationship': 'loves', 'target': 'sci-fi'}],\n",
       "   [{'source': 'movie',\n",
       "     'relationship': 'is_recommended_for',\n",
       "     'target': 'alice'}]]}}"
      ]
     },
     "execution_count": 19,
     "metadata": {},
     "output_type": "execute_result"
    }
   ],
   "source": [
    "result"
   ]
  },
  {
   "cell_type": "code",
   "execution_count": 17,
   "id": "fc8d2dfa",
   "metadata": {},
   "outputs": [],
   "source": [
    "# Get all memories\n",
    "all_memories = m.get_all(user_id=\"alice\")"
   ]
  },
  {
   "cell_type": "code",
   "execution_count": 18,
   "id": "457ccaa5",
   "metadata": {},
   "outputs": [
    {
     "data": {
      "text/plain": [
       "{'results': [{'id': '0c9d437d-cf57-4c07-a23f-5e87f86f3faf',\n",
       "   'memory': 'Planning to watch a movie tonight',\n",
       "   'hash': 'bf55418607cfdca4afa311b5fd8496bd',\n",
       "   'metadata': {'category': 'movie_recommendations'},\n",
       "   'created_at': '2025-05-27T08:42:31.111698-07:00',\n",
       "   'updated_at': None,\n",
       "   'user_id': 'alice'},\n",
       "  {'id': '30bbdb0d-94f5-42ae-b4d9-65e612e0613a',\n",
       "   'memory': 'Love sci-fi movies',\n",
       "   'hash': '65ef203273b0fa207b3134c45a097349',\n",
       "   'metadata': {'category': 'movie_recommendations'},\n",
       "   'created_at': '2025-05-27T08:42:31.456460-07:00',\n",
       "   'updated_at': None,\n",
       "   'user_id': 'alice'},\n",
       "  {'id': '41ff1ab0-77fd-4d16-b158-78fcbd6ad44e',\n",
       "   'memory': 'Not a big fan of thriller movies',\n",
       "   'hash': '028dfab4483f28980e292f62578d3293',\n",
       "   'metadata': {'category': 'movie_recommendations'},\n",
       "   'created_at': '2025-05-27T08:42:31.367085-07:00',\n",
       "   'updated_at': None,\n",
       "   'user_id': 'alice'}],\n",
       " 'relations': [{'source': 'alice',\n",
       "   'relationship': 'plans_to_watch',\n",
       "   'target': 'movie'},\n",
       "  {'source': 'movie', 'relationship': 'is_a', 'target': 'thriller'},\n",
       "  {'source': 'movie', 'relationship': 'is_a', 'target': 'sci-fi'},\n",
       "  {'source': 'alice', 'relationship': 'does_not_favor', 'target': 'thriller'},\n",
       "  {'source': 'alice', 'relationship': 'loves', 'target': 'sci-fi'},\n",
       "  {'source': 'movie',\n",
       "   'relationship': 'is_recommended_for',\n",
       "   'target': 'alice'}]}"
      ]
     },
     "execution_count": 18,
     "metadata": {},
     "output_type": "execute_result"
    }
   ],
   "source": [
    "all_memories"
   ]
  },
  {
   "cell_type": "code",
   "execution_count": 20,
   "id": "ae8b61ee",
   "metadata": {},
   "outputs": [],
   "source": [
    "related_memories = m.search(query=\"What do you know about me?\", user_id=\"alice\")"
   ]
  },
  {
   "cell_type": "code",
   "execution_count": 21,
   "id": "52cc9b77",
   "metadata": {},
   "outputs": [
    {
     "data": {
      "text/plain": [
       "{'results': [{'id': '41ff1ab0-77fd-4d16-b158-78fcbd6ad44e',\n",
       "   'memory': 'Not a big fan of thriller movies',\n",
       "   'hash': '028dfab4483f28980e292f62578d3293',\n",
       "   'metadata': {'category': 'movie_recommendations'},\n",
       "   'score': 0.17128575,\n",
       "   'created_at': '2025-05-27T08:42:31.367085-07:00',\n",
       "   'updated_at': None,\n",
       "   'user_id': 'alice'},\n",
       "  {'id': '30bbdb0d-94f5-42ae-b4d9-65e612e0613a',\n",
       "   'memory': 'Love sci-fi movies',\n",
       "   'hash': '65ef203273b0fa207b3134c45a097349',\n",
       "   'metadata': {'category': 'movie_recommendations'},\n",
       "   'score': 0.13252369,\n",
       "   'created_at': '2025-05-27T08:42:31.456460-07:00',\n",
       "   'updated_at': None,\n",
       "   'user_id': 'alice'},\n",
       "  {'id': '0c9d437d-cf57-4c07-a23f-5e87f86f3faf',\n",
       "   'memory': 'Planning to watch a movie tonight',\n",
       "   'hash': 'bf55418607cfdca4afa311b5fd8496bd',\n",
       "   'metadata': {'category': 'movie_recommendations'},\n",
       "   'score': 0.12142928,\n",
       "   'created_at': '2025-05-27T08:42:31.111698-07:00',\n",
       "   'updated_at': None,\n",
       "   'user_id': 'alice'}],\n",
       " 'relations': []}"
      ]
     },
     "execution_count": 21,
     "metadata": {},
     "output_type": "execute_result"
    }
   ],
   "source": [
    "related_memories"
   ]
  },
  {
   "cell_type": "code",
   "execution_count": 22,
   "id": "1b950566",
   "metadata": {},
   "outputs": [],
   "source": [
    "result = m.update(memory_id=\"30bbdb0d-94f5-42ae-b4d9-65e612e0613a\", data=\"I love Japan, it is my favorite country.\")"
   ]
  },
  {
   "cell_type": "code",
   "execution_count": 23,
   "id": "ffcd6ea7",
   "metadata": {},
   "outputs": [
    {
     "data": {
      "text/plain": [
       "{'message': 'Memory updated successfully!'}"
      ]
     },
     "execution_count": 23,
     "metadata": {},
     "output_type": "execute_result"
    }
   ],
   "source": [
    "result"
   ]
  }
 ],
 "metadata": {
  "kernelspec": {
   "display_name": ".venv",
   "language": "python",
   "name": "python3"
  },
  "language_info": {
   "codemirror_mode": {
    "name": "ipython",
    "version": 3
   },
   "file_extension": ".py",
   "mimetype": "text/x-python",
   "name": "python",
   "nbconvert_exporter": "python",
   "pygments_lexer": "ipython3",
   "version": "3.13.3"
  }
 },
 "nbformat": 4,
 "nbformat_minor": 5
}
