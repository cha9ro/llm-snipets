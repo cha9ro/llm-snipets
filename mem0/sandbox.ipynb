{
 "cells": [
  {
   "cell_type": "code",
   "execution_count": 1,
   "id": "cfed5b69",
   "metadata": {},
   "outputs": [
    {
     "name": "stderr",
     "output_type": "stream",
     "text": [
      "/Users/takuro/Developer/cha9ro/llm-snipets/.venv/lib/python3.13/site-packages/qdrant_client/http/models/models.py:758: SyntaxWarning: invalid escape sequence '\\&'\n",
      "  description=\"Check that the field is empty, alternative syntax for `is_empty: \\&quot;field_name\\&quot;`\",\n",
      "/Users/takuro/Developer/cha9ro/llm-snipets/.venv/lib/python3.13/site-packages/qdrant_client/http/models/models.py:762: SyntaxWarning: invalid escape sequence '\\&'\n",
      "  description=\"Check that the field is null, alternative syntax for `is_null: \\&quot;field_name\\&quot;`\",\n"
     ]
    }
   ],
   "source": [
    "import os\n",
    "\n",
    "from mem0 import MemoryClient\n",
    "\n",
    "API_KEY = os.environ[\"MEM0_API_KEY\"]\n",
    "client = MemoryClient(api_key=API_KEY)\n"
   ]
  },
  {
   "cell_type": "code",
   "execution_count": 2,
   "id": "42fe34b2",
   "metadata": {},
   "outputs": [
    {
     "name": "stderr",
     "output_type": "stream",
     "text": [
      "/Users/takuro/Developer/cha9ro/llm-snipets/.venv/lib/python3.13/site-packages/mem0/client/main.py:34: DeprecationWarning: output_format='v1.0' is deprecated therefore setting it to 'v1.1' by default.Check out the docs for more information: https://docs.mem0.ai/platform/quickstart#4-1-create-memories\n",
      "  return func(*args, **kwargs)\n"
     ]
    },
    {
     "data": {
      "text/plain": [
       "{'results': [{'memory': 'User name is Alex',\n",
       "   'event': 'ADD',\n",
       "   'id': 'e86a35b4-2266-461a-bc67-2f10eb6f52d2'},\n",
       "  {'memory': 'Is a vegetarian',\n",
       "   'event': 'ADD',\n",
       "   'id': '753d13fb-4aa1-4ffe-b059-a1d37e2394fa'},\n",
       "  {'memory': 'Is allergic to nuts',\n",
       "   'event': 'ADD',\n",
       "   'id': 'e470cfa6-79c9-4c14-8a79-8ea3725de0c5'}]}"
      ]
     },
     "execution_count": 2,
     "metadata": {},
     "output_type": "execute_result"
    }
   ],
   "source": [
    "messages = [\n",
    "    {\"role\": \"user\", \"content\": \"Hi, I'm Alex. I'm a vegetarian and I'm allergic to nuts.\"},\n",
    "    {\n",
    "        \"role\": \"assistant\",\n",
    "        \"content\": \"Hello Alex! I've noted that you're a vegetarian and have a nut allergy. I'll keep this in mind for any food-related recommendations or discussions.\",\n",
    "    },\n",
    "]\n",
    "client.add(messages, user_id=\"alex\")"
   ]
  },
  {
   "cell_type": "code",
   "execution_count": 3,
   "id": "7c4e9b78",
   "metadata": {},
   "outputs": [
    {
     "data": {
      "text/plain": [
       "[{'id': '753d13fb-4aa1-4ffe-b059-a1d37e2394fa',\n",
       "  'memory': 'Is a vegetarian',\n",
       "  'user_id': 'alex',\n",
       "  'metadata': None,\n",
       "  'categories': ['user_preferences', 'food'],\n",
       "  'created_at': '2025-05-27T07:19:05.063913-07:00',\n",
       "  'updated_at': '2025-05-27T07:19:05.084647-07:00',\n",
       "  'expiration_date': None,\n",
       "  'internal_metadata': None,\n",
       "  'deleted_at': None,\n",
       "  'score': 0.30164014110804493}]"
      ]
     },
     "execution_count": 3,
     "metadata": {},
     "output_type": "execute_result"
    }
   ],
   "source": [
    "query = \"What can I cook for dinner tonight?\"\n",
    "client.search(query, user_id=\"alex\")\n"
   ]
  },
  {
   "cell_type": "code",
   "execution_count": null,
   "id": "f0d529a6",
   "metadata": {},
   "outputs": [],
   "source": []
  }
 ],
 "metadata": {
  "kernelspec": {
   "display_name": ".venv",
   "language": "python",
   "name": "python3"
  },
  "language_info": {
   "codemirror_mode": {
    "name": "ipython",
    "version": 3
   },
   "file_extension": ".py",
   "mimetype": "text/x-python",
   "name": "python",
   "nbconvert_exporter": "python",
   "pygments_lexer": "ipython3",
   "version": "3.13.3"
  }
 },
 "nbformat": 4,
 "nbformat_minor": 5
}
