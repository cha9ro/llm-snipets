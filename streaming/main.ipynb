{
 "cells": [
  {
   "cell_type": "code",
   "execution_count": 8,
   "id": "c3a3d4fb",
   "metadata": {},
   "outputs": [],
   "source": [
    "from openai import OpenAI\n",
    "\n",
    "\n",
    "client = OpenAI(base_url=\"http://localhost:11434/v1\", api_key=\"dummy\")\n",
    "# Example usage\n",
    "response = client.chat.completions.create(\n",
    "    model=\"gemma3\",\n",
    "    messages=[\n",
    "        {\"role\": \"user\", \"content\": \"Hello! How are you?\"},\n",
    "        {\"role\": \"assistant\", \"content\": \"I'm fine, thank you! How can I assist you today?\"}\n",
    "    ],\n",
    ")"
   ]
  },
  {
   "cell_type": "code",
   "execution_count": null,
   "id": "2fdf31ac",
   "metadata": {},
   "outputs": [],
   "source": [
    "from typing import Any, AsyncGenerator, Generator\n",
    "from openai import AsyncOpenAI\n",
    "\n",
    "async def acreate() -> AsyncGenerator[str, None]:\n",
    "    async_client = AsyncOpenAI(base_url=\"http://localhost:11434/v1\", api_key=\"dummy\")\n",
    "    response = await async_client.chat.completions.create(\n",
    "        model=\"gemma3\",\n",
    "        messages=[\n",
    "            {\"role\": \"user\", \"content\": \"Hello! How are you?\"},\n",
    "            {\"role\": \"assistant\", \"content\": \"I'm fine, thank you! How can I assist you today?\"}\n",
    "        ],\n",
    "        stream=True,\n",
    "    )\n",
    "    async for chunk in response:\n",
    "        yield {\"state\": \"generationg\", \"content\": chunk.choices[0].delta.content}\n",
    "\n",
    "async def main() -> AsyncGenerator[str, None]:\n",
    "    yield {\"state\": \"accepted\", \"content\": \"hello world\"}\n",
    "    response = await acreate()\n",
    "    for chunk in response:\n",
    "        yield chunk\n",
    "    yield {\"state\": \"completed\", \"content\": \"goodbye world\"}"
   ]
  },
  {
   "cell_type": "code",
   "execution_count": 39,
   "id": "c2fd2d67",
   "metadata": {},
   "outputs": [],
   "source": [
    "from fastapi import FastAPI\n",
    "from fastapi.responses import StreamingResponse\n",
    "\n",
    "app = FastAPI()\n",
    "\n",
    "@app.get(\"/stream\")\n",
    "async def stream():\n",
    "    async def event_generator():\n",
    "        async for item in main():\n",
    "            yield f\"data: {item}\\n\\n\"\n",
    "    return StreamingResponse(event_generator(), media_type=\"text/event-stream\")"
   ]
  },
  {
   "cell_type": "code",
   "execution_count": null,
   "id": "e10ce6b7",
   "metadata": {},
   "outputs": [],
   "source": []
  }
 ],
 "metadata": {
  "kernelspec": {
   "display_name": ".venv",
   "language": "python",
   "name": "python3"
  },
  "language_info": {
   "codemirror_mode": {
    "name": "ipython",
    "version": 3
   },
   "file_extension": ".py",
   "mimetype": "text/x-python",
   "name": "python",
   "nbconvert_exporter": "python",
   "pygments_lexer": "ipython3",
   "version": "3.12.4"
  }
 },
 "nbformat": 4,
 "nbformat_minor": 5
}
